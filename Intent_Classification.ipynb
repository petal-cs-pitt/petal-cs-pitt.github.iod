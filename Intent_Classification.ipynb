{
  "nbformat": 4,
  "nbformat_minor": 0,
  "metadata": {
    "colab": {
      "name": "Intent_Classification.ipynb",
      "provenance": [],
      "collapsed_sections": [],
      "authorship_tag": "ABX9TyNfTwtwr0Osu+0gC631RhSW",
      "include_colab_link": true
    },
    "kernelspec": {
      "name": "python3",
      "display_name": "Python 3"
    },
    "language_info": {
      "name": "python"
    },
    "accelerator": "GPU",
    "widgets": {
      "application/vnd.jupyter.widget-state+json": {
        "14fef1501c244951b076ca938354108d": {
          "model_module": "@jupyter-widgets/controls",
          "model_name": "HBoxModel",
          "state": {
            "_view_name": "HBoxView",
            "_dom_classes": [],
            "_model_name": "HBoxModel",
            "_view_module": "@jupyter-widgets/controls",
            "_model_module_version": "1.5.0",
            "_view_count": null,
            "_view_module_version": "1.5.0",
            "box_style": "",
            "layout": "IPY_MODEL_fd67083211264763ac7455be4d389f25",
            "_model_module": "@jupyter-widgets/controls",
            "children": [
              "IPY_MODEL_ab5eb8f5c1df4a95996e9ddb9aa3afc6",
              "IPY_MODEL_0e57b356dcdd4922ad38490dc16bb9a5"
            ]
          }
        },
        "fd67083211264763ac7455be4d389f25": {
          "model_module": "@jupyter-widgets/base",
          "model_name": "LayoutModel",
          "state": {
            "_view_name": "LayoutView",
            "grid_template_rows": null,
            "right": null,
            "justify_content": null,
            "_view_module": "@jupyter-widgets/base",
            "overflow": null,
            "_model_module_version": "1.2.0",
            "_view_count": null,
            "flex_flow": null,
            "width": null,
            "min_width": null,
            "border": null,
            "align_items": null,
            "bottom": null,
            "_model_module": "@jupyter-widgets/base",
            "top": null,
            "grid_column": null,
            "overflow_y": null,
            "overflow_x": null,
            "grid_auto_flow": null,
            "grid_area": null,
            "grid_template_columns": null,
            "flex": null,
            "_model_name": "LayoutModel",
            "justify_items": null,
            "grid_row": null,
            "max_height": null,
            "align_content": null,
            "visibility": null,
            "align_self": null,
            "height": null,
            "min_height": null,
            "padding": null,
            "grid_auto_rows": null,
            "grid_gap": null,
            "max_width": null,
            "order": null,
            "_view_module_version": "1.2.0",
            "grid_template_areas": null,
            "object_position": null,
            "object_fit": null,
            "grid_auto_columns": null,
            "margin": null,
            "display": null,
            "left": null
          }
        },
        "ab5eb8f5c1df4a95996e9ddb9aa3afc6": {
          "model_module": "@jupyter-widgets/controls",
          "model_name": "FloatProgressModel",
          "state": {
            "_view_name": "ProgressView",
            "style": "IPY_MODEL_a56b0ca6ca914dbdb74ea1b8b8a899b9",
            "_dom_classes": [],
            "description": "Downloading: 100%",
            "_model_name": "FloatProgressModel",
            "bar_style": "success",
            "max": 231508,
            "_view_module": "@jupyter-widgets/controls",
            "_model_module_version": "1.5.0",
            "value": 231508,
            "_view_count": null,
            "_view_module_version": "1.5.0",
            "orientation": "horizontal",
            "min": 0,
            "description_tooltip": null,
            "_model_module": "@jupyter-widgets/controls",
            "layout": "IPY_MODEL_f41047b134ab4de580932572dc49a6f9"
          }
        },
        "0e57b356dcdd4922ad38490dc16bb9a5": {
          "model_module": "@jupyter-widgets/controls",
          "model_name": "HTMLModel",
          "state": {
            "_view_name": "HTMLView",
            "style": "IPY_MODEL_5491c32cf72e49bea5cf7534598028d4",
            "_dom_classes": [],
            "description": "",
            "_model_name": "HTMLModel",
            "placeholder": "​",
            "_view_module": "@jupyter-widgets/controls",
            "_model_module_version": "1.5.0",
            "value": " 232k/232k [00:00&lt;00:00, 731kB/s]",
            "_view_count": null,
            "_view_module_version": "1.5.0",
            "description_tooltip": null,
            "_model_module": "@jupyter-widgets/controls",
            "layout": "IPY_MODEL_1ee048a2a66b43db9c005bc872045c2c"
          }
        },
        "a56b0ca6ca914dbdb74ea1b8b8a899b9": {
          "model_module": "@jupyter-widgets/controls",
          "model_name": "ProgressStyleModel",
          "state": {
            "_view_name": "StyleView",
            "_model_name": "ProgressStyleModel",
            "description_width": "initial",
            "_view_module": "@jupyter-widgets/base",
            "_model_module_version": "1.5.0",
            "_view_count": null,
            "_view_module_version": "1.2.0",
            "bar_color": null,
            "_model_module": "@jupyter-widgets/controls"
          }
        },
        "f41047b134ab4de580932572dc49a6f9": {
          "model_module": "@jupyter-widgets/base",
          "model_name": "LayoutModel",
          "state": {
            "_view_name": "LayoutView",
            "grid_template_rows": null,
            "right": null,
            "justify_content": null,
            "_view_module": "@jupyter-widgets/base",
            "overflow": null,
            "_model_module_version": "1.2.0",
            "_view_count": null,
            "flex_flow": null,
            "width": null,
            "min_width": null,
            "border": null,
            "align_items": null,
            "bottom": null,
            "_model_module": "@jupyter-widgets/base",
            "top": null,
            "grid_column": null,
            "overflow_y": null,
            "overflow_x": null,
            "grid_auto_flow": null,
            "grid_area": null,
            "grid_template_columns": null,
            "flex": null,
            "_model_name": "LayoutModel",
            "justify_items": null,
            "grid_row": null,
            "max_height": null,
            "align_content": null,
            "visibility": null,
            "align_self": null,
            "height": null,
            "min_height": null,
            "padding": null,
            "grid_auto_rows": null,
            "grid_gap": null,
            "max_width": null,
            "order": null,
            "_view_module_version": "1.2.0",
            "grid_template_areas": null,
            "object_position": null,
            "object_fit": null,
            "grid_auto_columns": null,
            "margin": null,
            "display": null,
            "left": null
          }
        },
        "5491c32cf72e49bea5cf7534598028d4": {
          "model_module": "@jupyter-widgets/controls",
          "model_name": "DescriptionStyleModel",
          "state": {
            "_view_name": "StyleView",
            "_model_name": "DescriptionStyleModel",
            "description_width": "",
            "_view_module": "@jupyter-widgets/base",
            "_model_module_version": "1.5.0",
            "_view_count": null,
            "_view_module_version": "1.2.0",
            "_model_module": "@jupyter-widgets/controls"
          }
        },
        "1ee048a2a66b43db9c005bc872045c2c": {
          "model_module": "@jupyter-widgets/base",
          "model_name": "LayoutModel",
          "state": {
            "_view_name": "LayoutView",
            "grid_template_rows": null,
            "right": null,
            "justify_content": null,
            "_view_module": "@jupyter-widgets/base",
            "overflow": null,
            "_model_module_version": "1.2.0",
            "_view_count": null,
            "flex_flow": null,
            "width": null,
            "min_width": null,
            "border": null,
            "align_items": null,
            "bottom": null,
            "_model_module": "@jupyter-widgets/base",
            "top": null,
            "grid_column": null,
            "overflow_y": null,
            "overflow_x": null,
            "grid_auto_flow": null,
            "grid_area": null,
            "grid_template_columns": null,
            "flex": null,
            "_model_name": "LayoutModel",
            "justify_items": null,
            "grid_row": null,
            "max_height": null,
            "align_content": null,
            "visibility": null,
            "align_self": null,
            "height": null,
            "min_height": null,
            "padding": null,
            "grid_auto_rows": null,
            "grid_gap": null,
            "max_width": null,
            "order": null,
            "_view_module_version": "1.2.0",
            "grid_template_areas": null,
            "object_position": null,
            "object_fit": null,
            "grid_auto_columns": null,
            "margin": null,
            "display": null,
            "left": null
          }
        },
        "d290a7728bcb417880a5f580a0e65f54": {
          "model_module": "@jupyter-widgets/controls",
          "model_name": "HBoxModel",
          "state": {
            "_view_name": "HBoxView",
            "_dom_classes": [],
            "_model_name": "HBoxModel",
            "_view_module": "@jupyter-widgets/controls",
            "_model_module_version": "1.5.0",
            "_view_count": null,
            "_view_module_version": "1.5.0",
            "box_style": "",
            "layout": "IPY_MODEL_6e09f095957a4288827b0ab8916335c7",
            "_model_module": "@jupyter-widgets/controls",
            "children": [
              "IPY_MODEL_91f10213750a4dd08dd615487827b82c",
              "IPY_MODEL_e60c67d7f5364cc7bd3958c496e5f16c"
            ]
          }
        },
        "6e09f095957a4288827b0ab8916335c7": {
          "model_module": "@jupyter-widgets/base",
          "model_name": "LayoutModel",
          "state": {
            "_view_name": "LayoutView",
            "grid_template_rows": null,
            "right": null,
            "justify_content": null,
            "_view_module": "@jupyter-widgets/base",
            "overflow": null,
            "_model_module_version": "1.2.0",
            "_view_count": null,
            "flex_flow": null,
            "width": null,
            "min_width": null,
            "border": null,
            "align_items": null,
            "bottom": null,
            "_model_module": "@jupyter-widgets/base",
            "top": null,
            "grid_column": null,
            "overflow_y": null,
            "overflow_x": null,
            "grid_auto_flow": null,
            "grid_area": null,
            "grid_template_columns": null,
            "flex": null,
            "_model_name": "LayoutModel",
            "justify_items": null,
            "grid_row": null,
            "max_height": null,
            "align_content": null,
            "visibility": null,
            "align_self": null,
            "height": null,
            "min_height": null,
            "padding": null,
            "grid_auto_rows": null,
            "grid_gap": null,
            "max_width": null,
            "order": null,
            "_view_module_version": "1.2.0",
            "grid_template_areas": null,
            "object_position": null,
            "object_fit": null,
            "grid_auto_columns": null,
            "margin": null,
            "display": null,
            "left": null
          }
        },
        "91f10213750a4dd08dd615487827b82c": {
          "model_module": "@jupyter-widgets/controls",
          "model_name": "FloatProgressModel",
          "state": {
            "_view_name": "ProgressView",
            "style": "IPY_MODEL_3a2e458136464a22adea57cca01a311d",
            "_dom_classes": [],
            "description": "Downloading: 100%",
            "_model_name": "FloatProgressModel",
            "bar_style": "success",
            "max": 28,
            "_view_module": "@jupyter-widgets/controls",
            "_model_module_version": "1.5.0",
            "value": 28,
            "_view_count": null,
            "_view_module_version": "1.5.0",
            "orientation": "horizontal",
            "min": 0,
            "description_tooltip": null,
            "_model_module": "@jupyter-widgets/controls",
            "layout": "IPY_MODEL_bfc0d02196f244b892ebd588ea927620"
          }
        },
        "e60c67d7f5364cc7bd3958c496e5f16c": {
          "model_module": "@jupyter-widgets/controls",
          "model_name": "HTMLModel",
          "state": {
            "_view_name": "HTMLView",
            "style": "IPY_MODEL_44e7d22ca2044c19b6250e150685d36e",
            "_dom_classes": [],
            "description": "",
            "_model_name": "HTMLModel",
            "placeholder": "​",
            "_view_module": "@jupyter-widgets/controls",
            "_model_module_version": "1.5.0",
            "value": " 28.0/28.0 [00:00&lt;00:00, 251B/s]",
            "_view_count": null,
            "_view_module_version": "1.5.0",
            "description_tooltip": null,
            "_model_module": "@jupyter-widgets/controls",
            "layout": "IPY_MODEL_682937533ce04913a2266e801d2d205e"
          }
        },
        "3a2e458136464a22adea57cca01a311d": {
          "model_module": "@jupyter-widgets/controls",
          "model_name": "ProgressStyleModel",
          "state": {
            "_view_name": "StyleView",
            "_model_name": "ProgressStyleModel",
            "description_width": "initial",
            "_view_module": "@jupyter-widgets/base",
            "_model_module_version": "1.5.0",
            "_view_count": null,
            "_view_module_version": "1.2.0",
            "bar_color": null,
            "_model_module": "@jupyter-widgets/controls"
          }
        },
        "bfc0d02196f244b892ebd588ea927620": {
          "model_module": "@jupyter-widgets/base",
          "model_name": "LayoutModel",
          "state": {
            "_view_name": "LayoutView",
            "grid_template_rows": null,
            "right": null,
            "justify_content": null,
            "_view_module": "@jupyter-widgets/base",
            "overflow": null,
            "_model_module_version": "1.2.0",
            "_view_count": null,
            "flex_flow": null,
            "width": null,
            "min_width": null,
            "border": null,
            "align_items": null,
            "bottom": null,
            "_model_module": "@jupyter-widgets/base",
            "top": null,
            "grid_column": null,
            "overflow_y": null,
            "overflow_x": null,
            "grid_auto_flow": null,
            "grid_area": null,
            "grid_template_columns": null,
            "flex": null,
            "_model_name": "LayoutModel",
            "justify_items": null,
            "grid_row": null,
            "max_height": null,
            "align_content": null,
            "visibility": null,
            "align_self": null,
            "height": null,
            "min_height": null,
            "padding": null,
            "grid_auto_rows": null,
            "grid_gap": null,
            "max_width": null,
            "order": null,
            "_view_module_version": "1.2.0",
            "grid_template_areas": null,
            "object_position": null,
            "object_fit": null,
            "grid_auto_columns": null,
            "margin": null,
            "display": null,
            "left": null
          }
        },
        "44e7d22ca2044c19b6250e150685d36e": {
          "model_module": "@jupyter-widgets/controls",
          "model_name": "DescriptionStyleModel",
          "state": {
            "_view_name": "StyleView",
            "_model_name": "DescriptionStyleModel",
            "description_width": "",
            "_view_module": "@jupyter-widgets/base",
            "_model_module_version": "1.5.0",
            "_view_count": null,
            "_view_module_version": "1.2.0",
            "_model_module": "@jupyter-widgets/controls"
          }
        },
        "682937533ce04913a2266e801d2d205e": {
          "model_module": "@jupyter-widgets/base",
          "model_name": "LayoutModel",
          "state": {
            "_view_name": "LayoutView",
            "grid_template_rows": null,
            "right": null,
            "justify_content": null,
            "_view_module": "@jupyter-widgets/base",
            "overflow": null,
            "_model_module_version": "1.2.0",
            "_view_count": null,
            "flex_flow": null,
            "width": null,
            "min_width": null,
            "border": null,
            "align_items": null,
            "bottom": null,
            "_model_module": "@jupyter-widgets/base",
            "top": null,
            "grid_column": null,
            "overflow_y": null,
            "overflow_x": null,
            "grid_auto_flow": null,
            "grid_area": null,
            "grid_template_columns": null,
            "flex": null,
            "_model_name": "LayoutModel",
            "justify_items": null,
            "grid_row": null,
            "max_height": null,
            "align_content": null,
            "visibility": null,
            "align_self": null,
            "height": null,
            "min_height": null,
            "padding": null,
            "grid_auto_rows": null,
            "grid_gap": null,
            "max_width": null,
            "order": null,
            "_view_module_version": "1.2.0",
            "grid_template_areas": null,
            "object_position": null,
            "object_fit": null,
            "grid_auto_columns": null,
            "margin": null,
            "display": null,
            "left": null
          }
        },
        "c1a2b6aa91a9427fb0f9728c3cdfc68b": {
          "model_module": "@jupyter-widgets/controls",
          "model_name": "HBoxModel",
          "state": {
            "_view_name": "HBoxView",
            "_dom_classes": [],
            "_model_name": "HBoxModel",
            "_view_module": "@jupyter-widgets/controls",
            "_model_module_version": "1.5.0",
            "_view_count": null,
            "_view_module_version": "1.5.0",
            "box_style": "",
            "layout": "IPY_MODEL_525423a0f6ba4fb388bd0cea169a30f3",
            "_model_module": "@jupyter-widgets/controls",
            "children": [
              "IPY_MODEL_884cbf56582d49d49cd6318cd3526493",
              "IPY_MODEL_b5cb63c472b84be79837be18f1a79fa8"
            ]
          }
        },
        "525423a0f6ba4fb388bd0cea169a30f3": {
          "model_module": "@jupyter-widgets/base",
          "model_name": "LayoutModel",
          "state": {
            "_view_name": "LayoutView",
            "grid_template_rows": null,
            "right": null,
            "justify_content": null,
            "_view_module": "@jupyter-widgets/base",
            "overflow": null,
            "_model_module_version": "1.2.0",
            "_view_count": null,
            "flex_flow": null,
            "width": null,
            "min_width": null,
            "border": null,
            "align_items": null,
            "bottom": null,
            "_model_module": "@jupyter-widgets/base",
            "top": null,
            "grid_column": null,
            "overflow_y": null,
            "overflow_x": null,
            "grid_auto_flow": null,
            "grid_area": null,
            "grid_template_columns": null,
            "flex": null,
            "_model_name": "LayoutModel",
            "justify_items": null,
            "grid_row": null,
            "max_height": null,
            "align_content": null,
            "visibility": null,
            "align_self": null,
            "height": null,
            "min_height": null,
            "padding": null,
            "grid_auto_rows": null,
            "grid_gap": null,
            "max_width": null,
            "order": null,
            "_view_module_version": "1.2.0",
            "grid_template_areas": null,
            "object_position": null,
            "object_fit": null,
            "grid_auto_columns": null,
            "margin": null,
            "display": null,
            "left": null
          }
        },
        "884cbf56582d49d49cd6318cd3526493": {
          "model_module": "@jupyter-widgets/controls",
          "model_name": "FloatProgressModel",
          "state": {
            "_view_name": "ProgressView",
            "style": "IPY_MODEL_7d120f841b8d4d6bbf8504dfad6e61f2",
            "_dom_classes": [],
            "description": "Downloading: 100%",
            "_model_name": "FloatProgressModel",
            "bar_style": "success",
            "max": 466062,
            "_view_module": "@jupyter-widgets/controls",
            "_model_module_version": "1.5.0",
            "value": 466062,
            "_view_count": null,
            "_view_module_version": "1.5.0",
            "orientation": "horizontal",
            "min": 0,
            "description_tooltip": null,
            "_model_module": "@jupyter-widgets/controls",
            "layout": "IPY_MODEL_4e3cc41998d14fbc8144c68a6e9483b5"
          }
        },
        "b5cb63c472b84be79837be18f1a79fa8": {
          "model_module": "@jupyter-widgets/controls",
          "model_name": "HTMLModel",
          "state": {
            "_view_name": "HTMLView",
            "style": "IPY_MODEL_42cd29367b364ad783bd8d897084f4d8",
            "_dom_classes": [],
            "description": "",
            "_model_name": "HTMLModel",
            "placeholder": "​",
            "_view_module": "@jupyter-widgets/controls",
            "_model_module_version": "1.5.0",
            "value": " 466k/466k [00:00&lt;00:00, 4.97MB/s]",
            "_view_count": null,
            "_view_module_version": "1.5.0",
            "description_tooltip": null,
            "_model_module": "@jupyter-widgets/controls",
            "layout": "IPY_MODEL_fdcc602f66d940e8b974abaee9996f89"
          }
        },
        "7d120f841b8d4d6bbf8504dfad6e61f2": {
          "model_module": "@jupyter-widgets/controls",
          "model_name": "ProgressStyleModel",
          "state": {
            "_view_name": "StyleView",
            "_model_name": "ProgressStyleModel",
            "description_width": "initial",
            "_view_module": "@jupyter-widgets/base",
            "_model_module_version": "1.5.0",
            "_view_count": null,
            "_view_module_version": "1.2.0",
            "bar_color": null,
            "_model_module": "@jupyter-widgets/controls"
          }
        },
        "4e3cc41998d14fbc8144c68a6e9483b5": {
          "model_module": "@jupyter-widgets/base",
          "model_name": "LayoutModel",
          "state": {
            "_view_name": "LayoutView",
            "grid_template_rows": null,
            "right": null,
            "justify_content": null,
            "_view_module": "@jupyter-widgets/base",
            "overflow": null,
            "_model_module_version": "1.2.0",
            "_view_count": null,
            "flex_flow": null,
            "width": null,
            "min_width": null,
            "border": null,
            "align_items": null,
            "bottom": null,
            "_model_module": "@jupyter-widgets/base",
            "top": null,
            "grid_column": null,
            "overflow_y": null,
            "overflow_x": null,
            "grid_auto_flow": null,
            "grid_area": null,
            "grid_template_columns": null,
            "flex": null,
            "_model_name": "LayoutModel",
            "justify_items": null,
            "grid_row": null,
            "max_height": null,
            "align_content": null,
            "visibility": null,
            "align_self": null,
            "height": null,
            "min_height": null,
            "padding": null,
            "grid_auto_rows": null,
            "grid_gap": null,
            "max_width": null,
            "order": null,
            "_view_module_version": "1.2.0",
            "grid_template_areas": null,
            "object_position": null,
            "object_fit": null,
            "grid_auto_columns": null,
            "margin": null,
            "display": null,
            "left": null
          }
        },
        "42cd29367b364ad783bd8d897084f4d8": {
          "model_module": "@jupyter-widgets/controls",
          "model_name": "DescriptionStyleModel",
          "state": {
            "_view_name": "StyleView",
            "_model_name": "DescriptionStyleModel",
            "description_width": "",
            "_view_module": "@jupyter-widgets/base",
            "_model_module_version": "1.5.0",
            "_view_count": null,
            "_view_module_version": "1.2.0",
            "_model_module": "@jupyter-widgets/controls"
          }
        },
        "fdcc602f66d940e8b974abaee9996f89": {
          "model_module": "@jupyter-widgets/base",
          "model_name": "LayoutModel",
          "state": {
            "_view_name": "LayoutView",
            "grid_template_rows": null,
            "right": null,
            "justify_content": null,
            "_view_module": "@jupyter-widgets/base",
            "overflow": null,
            "_model_module_version": "1.2.0",
            "_view_count": null,
            "flex_flow": null,
            "width": null,
            "min_width": null,
            "border": null,
            "align_items": null,
            "bottom": null,
            "_model_module": "@jupyter-widgets/base",
            "top": null,
            "grid_column": null,
            "overflow_y": null,
            "overflow_x": null,
            "grid_auto_flow": null,
            "grid_area": null,
            "grid_template_columns": null,
            "flex": null,
            "_model_name": "LayoutModel",
            "justify_items": null,
            "grid_row": null,
            "max_height": null,
            "align_content": null,
            "visibility": null,
            "align_self": null,
            "height": null,
            "min_height": null,
            "padding": null,
            "grid_auto_rows": null,
            "grid_gap": null,
            "max_width": null,
            "order": null,
            "_view_module_version": "1.2.0",
            "grid_template_areas": null,
            "object_position": null,
            "object_fit": null,
            "grid_auto_columns": null,
            "margin": null,
            "display": null,
            "left": null
          }
        }
      }
    }
  },
  "cells": [
    {
      "cell_type": "markdown",
      "metadata": {
        "id": "view-in-github",
        "colab_type": "text"
      },
      "source": [
        "<a href=\"https://colab.research.google.com/github/petal-cs-pitt/petal-cs-pitt.github.io/blob/master/Intent_Classification.ipynb\" target=\"_parent\"><img src=\"https://colab.research.google.com/assets/colab-badge.svg\" alt=\"Open In Colab\"/></a>"
      ]
    },
    {
      "cell_type": "code",
      "metadata": {
        "colab": {
          "base_uri": "https://localhost:8080/"
        },
        "id": "cHz_Wq4C7rhI",
        "outputId": "64499861-d1a3-4834-bdc7-96c9b006bcfc"
      },
      "source": [
        "!pip install transformers"
      ],
      "execution_count": null,
      "outputs": [
        {
          "output_type": "stream",
          "text": [
            "Collecting transformers\n",
            "\u001b[?25l  Downloading https://files.pythonhosted.org/packages/ed/d5/f4157a376b8a79489a76ce6cfe147f4f3be1e029b7144fa7b8432e8acb26/transformers-4.4.2-py3-none-any.whl (2.0MB)\n",
            "\u001b[K     |████████████████████████████████| 2.0MB 18.4MB/s \n",
            "\u001b[?25hRequirement already satisfied: tqdm>=4.27 in /usr/local/lib/python3.7/dist-packages (from transformers) (4.41.1)\n",
            "Requirement already satisfied: numpy>=1.17 in /usr/local/lib/python3.7/dist-packages (from transformers) (1.19.5)\n",
            "Requirement already satisfied: requests in /usr/local/lib/python3.7/dist-packages (from transformers) (2.23.0)\n",
            "Requirement already satisfied: importlib-metadata; python_version < \"3.8\" in /usr/local/lib/python3.7/dist-packages (from transformers) (3.8.1)\n",
            "Requirement already satisfied: regex!=2019.12.17 in /usr/local/lib/python3.7/dist-packages (from transformers) (2019.12.20)\n",
            "Collecting sacremoses\n",
            "\u001b[?25l  Downloading https://files.pythonhosted.org/packages/7d/34/09d19aff26edcc8eb2a01bed8e98f13a1537005d31e95233fd48216eed10/sacremoses-0.0.43.tar.gz (883kB)\n",
            "\u001b[K     |████████████████████████████████| 890kB 56.2MB/s \n",
            "\u001b[?25hCollecting tokenizers<0.11,>=0.10.1\n",
            "\u001b[?25l  Downloading https://files.pythonhosted.org/packages/71/23/2ddc317b2121117bf34dd00f5b0de194158f2a44ee2bf5e47c7166878a97/tokenizers-0.10.1-cp37-cp37m-manylinux2010_x86_64.whl (3.2MB)\n",
            "\u001b[K     |████████████████████████████████| 3.2MB 51.5MB/s \n",
            "\u001b[?25hRequirement already satisfied: packaging in /usr/local/lib/python3.7/dist-packages (from transformers) (20.9)\n",
            "Requirement already satisfied: filelock in /usr/local/lib/python3.7/dist-packages (from transformers) (3.0.12)\n",
            "Requirement already satisfied: urllib3!=1.25.0,!=1.25.1,<1.26,>=1.21.1 in /usr/local/lib/python3.7/dist-packages (from requests->transformers) (1.24.3)\n",
            "Requirement already satisfied: chardet<4,>=3.0.2 in /usr/local/lib/python3.7/dist-packages (from requests->transformers) (3.0.4)\n",
            "Requirement already satisfied: certifi>=2017.4.17 in /usr/local/lib/python3.7/dist-packages (from requests->transformers) (2020.12.5)\n",
            "Requirement already satisfied: idna<3,>=2.5 in /usr/local/lib/python3.7/dist-packages (from requests->transformers) (2.10)\n",
            "Requirement already satisfied: zipp>=0.5 in /usr/local/lib/python3.7/dist-packages (from importlib-metadata; python_version < \"3.8\"->transformers) (3.4.1)\n",
            "Requirement already satisfied: typing-extensions>=3.6.4; python_version < \"3.8\" in /usr/local/lib/python3.7/dist-packages (from importlib-metadata; python_version < \"3.8\"->transformers) (3.7.4.3)\n",
            "Requirement already satisfied: six in /usr/local/lib/python3.7/dist-packages (from sacremoses->transformers) (1.15.0)\n",
            "Requirement already satisfied: click in /usr/local/lib/python3.7/dist-packages (from sacremoses->transformers) (7.1.2)\n",
            "Requirement already satisfied: joblib in /usr/local/lib/python3.7/dist-packages (from sacremoses->transformers) (1.0.1)\n",
            "Requirement already satisfied: pyparsing>=2.0.2 in /usr/local/lib/python3.7/dist-packages (from packaging->transformers) (2.4.7)\n",
            "Building wheels for collected packages: sacremoses\n",
            "  Building wheel for sacremoses (setup.py) ... \u001b[?25l\u001b[?25hdone\n",
            "  Created wheel for sacremoses: filename=sacremoses-0.0.43-cp37-none-any.whl size=893262 sha256=9af2c55f4756795a2e0607289df0a1763283573045f7970f78bf2e3718a39714\n",
            "  Stored in directory: /root/.cache/pip/wheels/29/3c/fd/7ce5c3f0666dab31a50123635e6fb5e19ceb42ce38d4e58f45\n",
            "Successfully built sacremoses\n",
            "Installing collected packages: sacremoses, tokenizers, transformers\n",
            "Successfully installed sacremoses-0.0.43 tokenizers-0.10.1 transformers-4.4.2\n"
          ],
          "name": "stdout"
        }
      ]
    },
    {
      "cell_type": "code",
      "metadata": {
        "colab": {
          "base_uri": "https://localhost:8080/"
        },
        "id": "w5xIGDpi76Wp",
        "outputId": "3c92db7e-e208-45b5-9882-8dca0c7d0916"
      },
      "source": [
        "from google.colab import drive\n",
        "drive.mount(\"/content/drive\")"
      ],
      "execution_count": null,
      "outputs": [
        {
          "output_type": "stream",
          "text": [
            "Mounted at /content/drive\n"
          ],
          "name": "stdout"
        }
      ]
    },
    {
      "cell_type": "code",
      "metadata": {
        "colab": {
          "base_uri": "https://localhost:8080/"
        },
        "id": "awsxolAX1YwK",
        "outputId": "198231e2-e95a-441e-c67c-581d76dde83b"
      },
      "source": [
        "import torch\n",
        "\n",
        "if torch.cuda.is_available():       \n",
        "    device = torch.device(\"cuda\")\n",
        "    print(f'There are {torch.cuda.device_count()} GPU(s) available.')\n",
        "    print('Device name:', torch.cuda.get_device_name(0))\n",
        "\n",
        "else:\n",
        "    print('No GPU available, using the CPU instead.')\n",
        "    device = torch.device(\"cpu\")"
      ],
      "execution_count": null,
      "outputs": [
        {
          "output_type": "stream",
          "text": [
            "There are 1 GPU(s) available.\n",
            "Device name: Tesla T4\n"
          ],
          "name": "stdout"
        }
      ]
    },
    {
      "cell_type": "code",
      "metadata": {
        "id": "EklfLA8yntzk"
      },
      "source": [
        "import pandas as pd"
      ],
      "execution_count": null,
      "outputs": []
    },
    {
      "cell_type": "code",
      "metadata": {
        "id": "s7cVOQfJ7i9l"
      },
      "source": [
        "data_df = pd.read_pickle('/content/drive/My Drive/PersuasionForGood_Data/Indent_Data.pkl')"
      ],
      "execution_count": null,
      "outputs": []
    },
    {
      "cell_type": "code",
      "metadata": {
        "colab": {
          "base_uri": "https://localhost:8080/",
          "height": 196
        },
        "id": "ECPra80e72cL",
        "outputId": "71c442dd-20fa-4d7c-ab72-7f2e2a7ee005"
      },
      "source": [
        "data_df.head()"
      ],
      "execution_count": null,
      "outputs": [
        {
          "output_type": "execute_result",
          "data": {
            "text/html": [
              "<div>\n",
              "<style scoped>\n",
              "    .dataframe tbody tr th:only-of-type {\n",
              "        vertical-align: middle;\n",
              "    }\n",
              "\n",
              "    .dataframe tbody tr th {\n",
              "        vertical-align: top;\n",
              "    }\n",
              "\n",
              "    .dataframe thead th {\n",
              "        text-align: right;\n",
              "    }\n",
              "</style>\n",
              "<table border=\"1\" class=\"dataframe\">\n",
              "  <thead>\n",
              "    <tr style=\"text-align: right;\">\n",
              "      <th></th>\n",
              "      <th>er_last_turn</th>\n",
              "      <th>er_last_sent</th>\n",
              "      <th>er_act</th>\n",
              "      <th>ee_sent</th>\n",
              "      <th>ee_act</th>\n",
              "      <th>ee_sentiment</th>\n",
              "    </tr>\n",
              "  </thead>\n",
              "  <tbody>\n",
              "    <tr>\n",
              "      <th>0</th>\n",
              "      <td>Hello. How are you?</td>\n",
              "      <td>How are you?</td>\n",
              "      <td>[0, 0, 0, 0, 0, 0, 0, 0, 0, 0, 0, 1, 0, 0, 0, ...</td>\n",
              "      <td>I'm good, how are you doing?</td>\n",
              "      <td>7</td>\n",
              "      <td>[0.4404, 0.0, 0.633, 0.367]</td>\n",
              "    </tr>\n",
              "    <tr>\n",
              "      <th>1</th>\n",
              "      <td>Very well. I'm just up organizing info for my ...</td>\n",
              "      <td>Are you involved with charities?</td>\n",
              "      <td>[0, 0, 0, 0, 0, 0, 0, 0, 0, 0, 0, 0, 0, 0, 0, ...</td>\n",
              "      <td>Yes!</td>\n",
              "      <td>12</td>\n",
              "      <td>[0.4574, 0.0, 0.0, 1.0]</td>\n",
              "    </tr>\n",
              "    <tr>\n",
              "      <th>2</th>\n",
              "      <td>Very well. I'm just up organizing info for my ...</td>\n",
              "      <td>Are you involved with charities?</td>\n",
              "      <td>[0, 0, 0, 0, 0, 0, 0, 0, 0, 0, 0, 0, 0, 0, 0, ...</td>\n",
              "      <td>I work with children who have terminal illnesses.</td>\n",
              "      <td>12</td>\n",
              "      <td>[-0.4939, 0.314, 0.686, 0.0]</td>\n",
              "    </tr>\n",
              "    <tr>\n",
              "      <th>3</th>\n",
              "      <td>Very well. I'm just up organizing info for my ...</td>\n",
              "      <td>Are you involved with charities?</td>\n",
              "      <td>[0, 0, 0, 0, 0, 0, 0, 0, 0, 0, 0, 0, 0, 0, 0, ...</td>\n",
              "      <td>What charity are you involved in?</td>\n",
              "      <td>14</td>\n",
              "      <td>[0.4215, 0.0, 0.641, 0.359]</td>\n",
              "    </tr>\n",
              "    <tr>\n",
              "      <th>4</th>\n",
              "      <td>That's great! I help with Save The Children.</td>\n",
              "      <td>I help with Save The Children.</td>\n",
              "      <td>[0, 0, 0, 0, 0, 0, 0, 0, 0, 0, 0, 0, 0, 0, 1, ...</td>\n",
              "      <td>Amazing!</td>\n",
              "      <td>0</td>\n",
              "      <td>[0.6239, 0.0, 0.0, 1.0]</td>\n",
              "    </tr>\n",
              "  </tbody>\n",
              "</table>\n",
              "</div>"
            ],
            "text/plain": [
              "                                        er_last_turn  ...                  ee_sentiment\n",
              "0                                Hello. How are you?  ...   [0.4404, 0.0, 0.633, 0.367]\n",
              "1  Very well. I'm just up organizing info for my ...  ...       [0.4574, 0.0, 0.0, 1.0]\n",
              "2  Very well. I'm just up organizing info for my ...  ...  [-0.4939, 0.314, 0.686, 0.0]\n",
              "3  Very well. I'm just up organizing info for my ...  ...   [0.4215, 0.0, 0.641, 0.359]\n",
              "4       That's great! I help with Save The Children.  ...       [0.6239, 0.0, 0.0, 1.0]\n",
              "\n",
              "[5 rows x 6 columns]"
            ]
          },
          "metadata": {
            "tags": []
          },
          "execution_count": 6
        }
      ]
    },
    {
      "cell_type": "code",
      "metadata": {
        "colab": {
          "base_uri": "https://localhost:8080/",
          "height": 180,
          "referenced_widgets": [
            "14fef1501c244951b076ca938354108d",
            "fd67083211264763ac7455be4d389f25",
            "ab5eb8f5c1df4a95996e9ddb9aa3afc6",
            "0e57b356dcdd4922ad38490dc16bb9a5",
            "a56b0ca6ca914dbdb74ea1b8b8a899b9",
            "f41047b134ab4de580932572dc49a6f9",
            "5491c32cf72e49bea5cf7534598028d4",
            "1ee048a2a66b43db9c005bc872045c2c",
            "d290a7728bcb417880a5f580a0e65f54",
            "6e09f095957a4288827b0ab8916335c7",
            "91f10213750a4dd08dd615487827b82c",
            "e60c67d7f5364cc7bd3958c496e5f16c",
            "3a2e458136464a22adea57cca01a311d",
            "bfc0d02196f244b892ebd588ea927620",
            "44e7d22ca2044c19b6250e150685d36e",
            "682937533ce04913a2266e801d2d205e",
            "c1a2b6aa91a9427fb0f9728c3cdfc68b",
            "525423a0f6ba4fb388bd0cea169a30f3",
            "884cbf56582d49d49cd6318cd3526493",
            "b5cb63c472b84be79837be18f1a79fa8",
            "7d120f841b8d4d6bbf8504dfad6e61f2",
            "4e3cc41998d14fbc8144c68a6e9483b5",
            "42cd29367b364ad783bd8d897084f4d8",
            "fdcc602f66d940e8b974abaee9996f89"
          ]
        },
        "id": "L3yZ9LSH9hTT",
        "outputId": "18d9811e-f3d4-4c0a-f5f6-130de75b613f"
      },
      "source": [
        "from transformers import BertTokenizer\n",
        "\n",
        "# Load the BERT tokenizer\n",
        "tokenizer = BertTokenizer.from_pretrained('bert-base-uncased', do_lower_case=True)\n",
        "\n",
        "n = data_df.shape[0]\n",
        "\n",
        "max_len = 0\n",
        "for i in range(n):\n",
        "  er = data_df.iloc[i, 0]\n",
        "  ee = data_df.iloc[i, 3]\n",
        "  encoded_text = tokenizer.encode(ee, add_special_tokens=True)  # Change here if want to add er\n",
        "  max_len = max(max_len, len(encoded_text))\n",
        "\n",
        "max_len"
      ],
      "execution_count": null,
      "outputs": [
        {
          "output_type": "display_data",
          "data": {
            "application/vnd.jupyter.widget-view+json": {
              "model_id": "14fef1501c244951b076ca938354108d",
              "version_minor": 0,
              "version_major": 2
            },
            "text/plain": [
              "HBox(children=(FloatProgress(value=0.0, description='Downloading', max=231508.0, style=ProgressStyle(descripti…"
            ]
          },
          "metadata": {
            "tags": []
          }
        },
        {
          "output_type": "stream",
          "text": [
            "\n"
          ],
          "name": "stdout"
        },
        {
          "output_type": "display_data",
          "data": {
            "application/vnd.jupyter.widget-view+json": {
              "model_id": "d290a7728bcb417880a5f580a0e65f54",
              "version_minor": 0,
              "version_major": 2
            },
            "text/plain": [
              "HBox(children=(FloatProgress(value=0.0, description='Downloading', max=28.0, style=ProgressStyle(description_w…"
            ]
          },
          "metadata": {
            "tags": []
          }
        },
        {
          "output_type": "stream",
          "text": [
            "\n"
          ],
          "name": "stdout"
        },
        {
          "output_type": "display_data",
          "data": {
            "application/vnd.jupyter.widget-view+json": {
              "model_id": "c1a2b6aa91a9427fb0f9728c3cdfc68b",
              "version_minor": 0,
              "version_major": 2
            },
            "text/plain": [
              "HBox(children=(FloatProgress(value=0.0, description='Downloading', max=466062.0, style=ProgressStyle(descripti…"
            ]
          },
          "metadata": {
            "tags": []
          }
        },
        {
          "output_type": "stream",
          "text": [
            "\n"
          ],
          "name": "stdout"
        },
        {
          "output_type": "execute_result",
          "data": {
            "text/plain": [
              "62"
            ]
          },
          "metadata": {
            "tags": []
          },
          "execution_count": 7
        }
      ]
    },
    {
      "cell_type": "code",
      "metadata": {
        "id": "Ku-bIMeD_hl4"
      },
      "source": [
        "MAX_LEN = max_len+3"
      ],
      "execution_count": null,
      "outputs": []
    },
    {
      "cell_type": "code",
      "metadata": {
        "id": "y6AXJHK0EFpt",
        "colab": {
          "base_uri": "https://localhost:8080/"
        },
        "outputId": "c9ba23c4-5cb9-45e7-9d7b-1b62bf48829f"
      },
      "source": [
        "from sklearn.model_selection import train_test_split\n",
        "\n",
        "X = data_df.iloc[:, [1, 3, 2, 5]]\n",
        "y = data_df['ee_act']\n",
        "\n",
        "\n",
        "X = X.to_numpy()\n",
        "y = y.to_numpy()\n",
        "\n",
        "X_train, X_val, y_train, y_val = train_test_split(X, y, test_size=0.1, random_state=2020)\n",
        "X[1:2, :]"
      ],
      "execution_count": null,
      "outputs": [
        {
          "output_type": "execute_result",
          "data": {
            "text/plain": [
              "array([['Are you involved with charities?', 'Yes!',\n",
              "        array([0, 0, 0, 0, 0, 0, 0, 0, 0, 0, 0, 0, 0, 0, 0, 0, 0, 0, 0, 0, 0, 0,\n",
              "       0, 0, 1, 0, 0]),\n",
              "        list([0.4574, 0.0, 0.0, 1.0])]], dtype=object)"
            ]
          },
          "metadata": {
            "tags": []
          },
          "execution_count": 9
        }
      ]
    },
    {
      "cell_type": "code",
      "metadata": {
        "id": "HzJUUC8R8Bs0"
      },
      "source": [
        "# Create a function to tokenize a set of texts\n",
        "import numpy as np\n",
        "from torch.utils.data import TensorDataset, DataLoader, RandomSampler, SequentialSampler\n",
        "\n",
        "def preprocessing_for_bert(data):\n",
        "    \"\"\"Perform required preprocessing steps for pretrained BERT.\n",
        "    @param    data (np.array): Array of texts to be processed.\n",
        "    @return   input_ids (torch.Tensor): Tensor of token ids to be fed to a model.\n",
        "    @return   attention_masks (torch.Tensor): Tensor of indices specifying which\n",
        "                  tokens should be attended to by the model.\n",
        "    \"\"\"\n",
        "    # Create empty lists to store outputs\n",
        "    input_ids = []\n",
        "    attention_masks = []\n",
        "    token_type_ids = []\n",
        "    er_acts = []\n",
        "    ee_sentiments = []\n",
        "    other_features = []\n",
        "    # For every sentence...\n",
        "    for row in data:\n",
        "      er_ut = row[0]\n",
        "      ee_ut = row[1]\n",
        "      # `encode_plus` will:\n",
        "      #    (1) Tokenize the sentence\n",
        "      #    (2) Add the `[CLS]` and `[SEP]` token to the start and end\n",
        "      #    (3) Truncate/Pad sentence to max length\n",
        "      #    (4) Map tokens to their IDs\n",
        "      #    (5) Create attention mask\n",
        "      #    (6) Return a dictionary of outputs\n",
        "      encoded_sent = tokenizer(\n",
        "          text=ee_ut,  # Preprocess sentence\n",
        "          #text_pair=ee_ut,\n",
        "          add_special_tokens=True,        # Add `[CLS]` and `[SEP]`\n",
        "          max_length=MAX_LEN,                  # Max length to truncate/pad\n",
        "          padding='max_length',         # Pad sentence to max length\n",
        "          #return_tensors='pt',           # Return PyTorch tensor                          \n",
        "          return_attention_mask=True,      # Return attention mask\n",
        "          return_token_type_ids=True,\n",
        "          )\n",
        "      \n",
        "      # Add the outputs to the lists\n",
        "      input_ids.append(encoded_sent.get('input_ids'))\n",
        "      attention_masks.append(encoded_sent.get('attention_mask'))\n",
        "      token_type_ids.append(encoded_sent.get('token_type_ids'))\n",
        "      other_features.append(np.concatenate((row[2], row[3]), axis=None))\n",
        "      #er_acts.append(row[2])\n",
        "      #ee_sentiments.append(row[3])\n",
        "\n",
        "    # Convert lists to tensors\n",
        "    input_ids = torch.tensor(input_ids)\n",
        "    attention_masks = torch.tensor(attention_masks)\n",
        "    token_type_ids = torch.tensor(token_type_ids)\n",
        "\n",
        "    #return input_ids, attention_masks, token_type_ids\n",
        "    return input_ids, attention_masks, token_type_ids, torch.tensor(other_features)"
      ],
      "execution_count": null,
      "outputs": []
    },
    {
      "cell_type": "code",
      "metadata": {
        "id": "sRkl7ncsm6NU"
      },
      "source": [
        "import torch\n",
        "\n",
        "train_inputs, train_masks, train_segments, train_features = preprocessing_for_bert(X_train)\n",
        "val_inputs, val_masks, val_segments, val_features = preprocessing_for_bert(X_val)"
      ],
      "execution_count": null,
      "outputs": []
    },
    {
      "cell_type": "code",
      "metadata": {
        "id": "f9G5lyrQnW3h"
      },
      "source": [
        "from torch.utils.data import TensorDataset, DataLoader, RandomSampler, SequentialSampler\n",
        "\n",
        "# Convert other data types to torch.Tensor\n",
        "train_labels = torch.tensor(y_train)\n",
        "val_labels = torch.tensor(y_val)\n",
        "\n",
        "# For fine-tuning BERT, the authors recommend a batch size of 16 or 32.\n",
        "batch_size = 32\n",
        "\n",
        "# Create the DataLoader for our training set\n",
        "train_data = TensorDataset(train_inputs, train_masks, train_segments, train_features, train_labels)\n",
        "train_sampler = RandomSampler(train_data)\n",
        "train_dataloader = DataLoader(train_data, sampler=train_sampler, batch_size=batch_size)\n",
        "\n",
        "# Create the DataLoader for our validation set\n",
        "val_data = TensorDataset(val_inputs, val_masks, val_segments, val_features, val_labels)\n",
        "val_sampler = SequentialSampler(val_data)\n",
        "val_dataloader = DataLoader(val_data, sampler=val_sampler, batch_size=batch_size)"
      ],
      "execution_count": null,
      "outputs": []
    },
    {
      "cell_type": "code",
      "metadata": {
        "id": "EbMnJwcIcl2f"
      },
      "source": [
        "def set_seed(seed_value=42):\n",
        "    \"\"\"Set seed for reproducibility.\n",
        "    \"\"\"\n",
        "    random.seed(seed_value)\n",
        "    np.random.seed(seed_value)\n",
        "    torch.manual_seed(seed_value)\n",
        "    torch.cuda.manual_seed_all(seed_value)"
      ],
      "execution_count": null,
      "outputs": []
    },
    {
      "cell_type": "code",
      "metadata": {
        "colab": {
          "base_uri": "https://localhost:8080/"
        },
        "id": "T8hRLn6Ewyvu",
        "outputId": "fcbef7a7-9a52-48ac-e8c3-5220d880ba19"
      },
      "source": [
        "ee_intent_dict = {'acknowledgement': 0, 'agree-donation': 1, 'ask-donation-procedure': 2, 'ask-org-info': 3, 'ask-persuader-donation-intention': 4,\n",
        "                  'closing': 5, 'confirm-donation': 1, 'disagree-donation': 6, 'greeting': 7, 'negative-reaction-to-donation': 8, 'negative-to-inquiry': 9, 'neutral-reaction-to-donation': 10,\n",
        "                  'neutral-to-inquiry': 10, 'off-task': 10, 'other': 10, 'personal-related-inquiry': 11, 'positive-reaction-to-donation': 0, 'positive-to-inquiry': 12, 'provide-donation-amount': 13,\n",
        "                  'task-related-inquiry': 14, 'thank': 5, 'you-are-welcome': 5}\n",
        "\n",
        "N_CLASSES = len(set(ee_intent_dict.values()))\n",
        "N_CLASSES"
      ],
      "execution_count": null,
      "outputs": [
        {
          "output_type": "execute_result",
          "data": {
            "text/plain": [
              "15"
            ]
          },
          "metadata": {
            "tags": []
          },
          "execution_count": 12
        }
      ]
    },
    {
      "cell_type": "code",
      "metadata": {
        "colab": {
          "base_uri": "https://localhost:8080/"
        },
        "id": "rn-_kOPSqfWM",
        "outputId": "dddb6f3b-85b2-4e8a-b1ca-39a1f4fff55a"
      },
      "source": [
        "%%time\n",
        "import torch\n",
        "import torch.nn as nn\n",
        "from transformers import BertModel\n",
        "\n",
        "# Create the BertClassfier class\n",
        "class BertClassifier(nn.Module):\n",
        "    \"\"\"Bert Model for Classification Tasks.\n",
        "    \"\"\"\n",
        "    def __init__(self, other_features_size, freeze_bert=False):\n",
        "        \"\"\"\n",
        "        @param    bert: a BertModel object\n",
        "        @param    classifier: a torch.nn.Module classifier\n",
        "        @param    freeze_bert (bool): Set `False` to fine-tune the BERT model\n",
        "        \"\"\"\n",
        "        super(BertClassifier, self).__init__()\n",
        "        # Specify hidden size of BERT, hidden size of our classifier, and number of labels\n",
        "        D_in, H, D_out = 768+other_features_size, 50, N_CLASSES\n",
        "\n",
        "        # Instantiate BERT model\n",
        "        self.bert = BertModel.from_pretrained('bert-base-uncased')\n",
        "\n",
        "        # Instantiate an one-layer feed-forward classifier\n",
        "        self.classifier = nn.Sequential(\n",
        "            nn.Dropout(0.5),\n",
        "            nn.Linear(D_in, D_out)\n",
        "            #nn.Linear(D_in, H),\n",
        "            #nn.ReLU(),\n",
        "            #nn.Dropout(0.5),\n",
        "            #nn.Linear(H, D_out)\n",
        "        )\n",
        "\n",
        "        # Freeze the BERT model\n",
        "        if freeze_bert:\n",
        "            for param in self.bert.parameters():\n",
        "                param.requires_grad = False\n",
        "        \n",
        "    def forward(self, input_ids, attention_mask, token_type_ids, other_features):\n",
        "        \"\"\"\n",
        "        Feed input to BERT and the classifier to compute logits.\n",
        "        @param    input_ids (torch.Tensor): an input tensor with shape (batch_size,\n",
        "                      max_length)\n",
        "        @param    attention_mask (torch.Tensor): a tensor that hold attention mask\n",
        "                      information with shape (batch_size, max_length)\n",
        "        @return   logits (torch.Tensor): an output tensor with shape (batch_size,\n",
        "                      num_labels)\n",
        "        \"\"\"\n",
        "        # Feed input to BERT\n",
        "        outputs = self.bert(input_ids=input_ids,\n",
        "                            #token_type_ids=token_type_ids,  # Add token_type_ids if use pair\n",
        "                            attention_mask=attention_mask)\n",
        "                            \n",
        "        \n",
        "        # Extract the last hidden state of the token `[CLS]` for classification task\n",
        "        last_hidden_state_cls = outputs[0][:, 0, :]\n",
        "        # last_hidden_state_cls = nn.Dropout(0.4)(last_hidden_state_cls)\n",
        "        final_representation = torch.cat((last_hidden_state_cls, other_features), 1)\n",
        "        # Feed input to classifier to compute logits\n",
        "        logits = self.classifier(final_representation)\n",
        "\n",
        "        return logits"
      ],
      "execution_count": null,
      "outputs": [
        {
          "output_type": "stream",
          "text": [
            "CPU times: user 21.3 ms, sys: 0 ns, total: 21.3 ms\n",
            "Wall time: 26.1 ms\n"
          ],
          "name": "stdout"
        }
      ]
    },
    {
      "cell_type": "code",
      "metadata": {
        "id": "YegvAVFwq0Sl"
      },
      "source": [
        "from transformers import AdamW, get_linear_schedule_with_warmup\n",
        "\n",
        "def initialize_model(train_dataloader, epochs=4, freeze_bert=False):\n",
        "    \"\"\"Initialize the Bert Classifier, the optimizer and the learning rate scheduler.\n",
        "    \"\"\"\n",
        "    # Instantiate Bert Classifier\n",
        "    bert_classifier = BertClassifier(other_features_size = features.shape[1], freeze_bert=freeze_bert)\n",
        "\n",
        "    # Tell PyTorch to run the model on GPU\n",
        "    bert_classifier.to(device)\n",
        "\n",
        "    # Create the optimizer\n",
        "    optimizer = AdamW(bert_classifier.parameters(),\n",
        "                      lr=5e-5,    # Default learning rate\n",
        "                      eps=1e-8    # Default epsilon value\n",
        "                      )\n",
        "\n",
        "    # Total number of training steps\n",
        "    total_steps = len(train_dataloader) * epochs\n",
        "\n",
        "    # Set up the learning rate scheduler\n",
        "    scheduler = get_linear_schedule_with_warmup(optimizer,\n",
        "                                                num_warmup_steps=0, # Default value\n",
        "                                                num_training_steps=total_steps)\n",
        "    return bert_classifier, optimizer, scheduler"
      ],
      "execution_count": null,
      "outputs": []
    },
    {
      "cell_type": "code",
      "metadata": {
        "id": "1qhGWSrlyBQM"
      },
      "source": [
        "er_act_map = {'acknowledgement': 0,\n",
        " 'ask-donate-more': 1,\n",
        " 'ask-donation-amount': 2,\n",
        " 'ask-not-donate-reason': 3,\n",
        " 'closing': 4,\n",
        " 'comment-partner': 5,\n",
        " 'confirm-donation': 6,\n",
        " 'credibility-appeal': 7,\n",
        " 'donation-information': 8,\n",
        " 'emotion-appeal': 9,\n",
        " 'foot-in-the-door': 10,\n",
        " 'greeting': 11,\n",
        " 'logical-appeal': 12,\n",
        " 'negative-to-inquiry': 13,\n",
        " 'neutral-to-inquiry': 14,\n",
        " 'off-task': 15,\n",
        " 'other': 16,\n",
        " 'personal-related-inquiry': 17,\n",
        " 'personal-story': 18,\n",
        " 'positive-to-inquiry': 19,\n",
        " 'praise-user': 20,\n",
        " 'proposition-of-donation': 21,\n",
        " 'self-modeling': 22,\n",
        " 'source-related-inquiry': 23,\n",
        " 'task-related-inquiry': 24,\n",
        " 'thank': 25,\n",
        " 'you-are-welcome': 26}"
      ],
      "execution_count": null,
      "outputs": []
    },
    {
      "cell_type": "code",
      "metadata": {
        "id": "foJJaEuPxvcG"
      },
      "source": [
        "import random\n",
        "import time\n",
        "\n",
        "# Specify loss function\n",
        "loss_fn = nn.CrossEntropyLoss()\n",
        "\n",
        "\n",
        "def train(model, train_dataloader, val_dataloader=None, epochs=4, evaluation=False):\n",
        "    \"\"\"Train the BertClassifier model.\n",
        "    \"\"\"\n",
        "    # Start training loop\n",
        "    print(\"Start training...\\n\")\n",
        "    f1_each = 0\n",
        "    f1_s = 0\n",
        "    c_mat = None\n",
        "    for epoch_i in range(epochs):\n",
        "        # =======================================\n",
        "        #               Training\n",
        "        # =======================================\n",
        "        # Print the header of the result table\n",
        "        print(f\"{'Epoch':^7} | {'Batch':^7} | {'Train Loss':^12} | {'Val Loss':^10} | {'Val Acc':^9} | {'F1':^4} | {'Elapsed':^9}\")\n",
        "        print(\"-\"*75)\n",
        "\n",
        "        # Measure the elapsed time of each epoch\n",
        "        t0_epoch, t0_batch = time.time(), time.time()\n",
        "\n",
        "        # Reset tracking variables at the beginning of each epoch\n",
        "        total_loss, batch_loss, batch_counts = 0, 0, 0\n",
        "\n",
        "        # Put the model into the training mode\n",
        "        model.train()\n",
        "\n",
        "        # For each batch of training data...\n",
        "        for step, batch in enumerate(train_dataloader):\n",
        "            batch_counts +=1\n",
        "            # Load batch to GPU\n",
        "            b_input_ids, b_attn_mask, b_segment_ids, b_other_features, b_labels = batch\n",
        "\n",
        "            b_input_ids = b_input_ids.type(torch.IntTensor).to(device)\n",
        "            b_attn_mask = b_attn_mask.type(torch.IntTensor).to(device)\n",
        "            b_segment_ids = b_segment_ids.type(torch.IntTensor).to(device)\n",
        "            b_labels = b_labels.type(torch.LongTensor).to(device)\n",
        "            b_other_features = b_other_features.to(device).float()\n",
        "\n",
        "            # Zero out any previously calculated gradients\n",
        "            model.zero_grad()\n",
        "\n",
        "            # Perform a forward pass. This will return logits.\n",
        "            logits = model(b_input_ids, b_attn_mask, b_segment_ids, b_other_features)\n",
        "            #print(logits)\n",
        "\n",
        "            # Compute loss and accumulate the loss values\n",
        "            loss = loss_fn(logits, b_labels)\n",
        "            batch_loss += loss\n",
        "            total_loss += loss\n",
        "\n",
        "            # Perform a backward pass to calculate gradients\n",
        "            loss.backward()\n",
        "\n",
        "            # Clip the norm of the gradients to 1.0 to prevent \"exploding gradients\"\n",
        "            torch.nn.utils.clip_grad_norm_(model.parameters(), 1.0)\n",
        "\n",
        "            # Update parameters and the learning rate\n",
        "            optimizer.step()\n",
        "            scheduler.step()\n",
        "\n",
        "            # Print the loss values and time elapsed for every 20 batches\n",
        "            if (step % 20 == 0 and step != 0) or (step == len(train_dataloader) - 1):\n",
        "                # Calculate time elapsed for 20 batches\n",
        "                time_elapsed = time.time() - t0_batch\n",
        "\n",
        "                # Print training results\n",
        "                print(f\"{epoch_i + 1:^7} | {step:^7} | {batch_loss / batch_counts:^12.6f} | {'-':^10} | {'-':^9} | {'-':^4} |{time_elapsed:^9.2f}\")\n",
        "\n",
        "                # Reset batch tracking variables\n",
        "                batch_loss, batch_counts = 0, 0\n",
        "                t0_batch = time.time()\n",
        "\n",
        "        # Calculate the average loss over the entire training data\n",
        "        avg_train_loss = total_loss / len(train_dataloader)\n",
        "\n",
        "        print(\"-\"*75)\n",
        "        # =======================================\n",
        "        #               Evaluation\n",
        "        # =======================================\n",
        "        if evaluation == True:\n",
        "            # After the completion of each training epoch, measure the model's performance\n",
        "            # on our validation set.\n",
        "            val_loss, val_accuracy, f1_s, f1_each, c_mat = evaluate(model, val_dataloader)\n",
        "\n",
        "            # Print performance over the entire training data\n",
        "            time_elapsed = time.time() - t0_epoch\n",
        "            \n",
        "            print(f\"{epoch_i + 1:^7} | {'-':^7} | {avg_train_loss:^12.6f} | {val_loss:^10.6f} | {val_accuracy:^9.2f} | {f1_s:^4.2f} | {time_elapsed:^9.2f}\")\n",
        "            print(\"-\"*75)\n",
        "        print(\"\\n\")\n",
        "    return f1_s, f1_each, c_mat\n",
        "    print(\"Training complete!\")\n",
        "\n",
        "from sklearn.metrics import f1_score\n",
        "from sklearn.metrics import confusion_matrix\n",
        "\n",
        "def predict(preds, other_features):\n",
        "    new_preds = []\n",
        "    for i in range(other_features.shape[0]):\n",
        "      pred = preds[i]\n",
        "      features = other_features[i, :]\n",
        "      new_pred = pred\n",
        "      if pred == 0: #pos-to-dona\n",
        "        inq1 = er_act_map['personal-related-inquiry']\n",
        "        inq2 = er_act_map['source-related-inquiry']\n",
        "        inq3 = er_act_map['task-related-inquiry']\n",
        "        if features[inq1] == 1 or features[inq2] == 1 or features[inq3] == 1:\n",
        "          new_pred = 12\n",
        "      elif pred == 12: #pos_to_inq\n",
        "        inq1 = er_act_map['personal-related-inquiry']\n",
        "        inq2 = er_act_map['source-related-inquiry']\n",
        "        inq3 = er_act_map['task-related-inquiry']\n",
        "        if features[inq1] == 0 and features[inq2] == 0 and features[inq3] == 0:\n",
        "          new_pred = 0\n",
        "      elif pred == 8: #negative-do => dis-do\n",
        "        proposed_donation = er_act_map['proposition-of-donation']\n",
        "        if features[proposed_donation] == 1:\n",
        "          new_pred = 6\n",
        "      elif pred == 14: #ask-org-info => task-related-inq (14)\n",
        "        cred_appeal = er_act_map['credibility-appeal']\n",
        "        if features[cred_appeal] == 1:\n",
        "          new_pred = 3\n",
        "\n",
        "      new_preds.append(new_pred)\n",
        "    return new_preds\n",
        "\n",
        "def evaluate(model, val_dataloader):\n",
        "    \"\"\"After the completion of each training epoch, measure the model's performance\n",
        "    on our validation set.\n",
        "    \"\"\"\n",
        "    # Put the model into the evaluation mode. The dropout layers are disabled during\n",
        "    # the test time.\n",
        "    model.eval()\n",
        "\n",
        "    # Tracking variables\n",
        "    val_accuracy = []\n",
        "    val_loss = []\n",
        "    all_preds = []\n",
        "    y_val = []\n",
        "    true_cnt = 0\n",
        "    data_cnt = 0\n",
        "    # For each batch in our validation set...\n",
        "    for batch in val_dataloader:\n",
        "        # Load batch to GPU\n",
        "        b_input_ids, b_attn_mask, b_segment_ids, b_other_features, b_labels = batch\n",
        "\n",
        "        true_labels = b_labels.cpu().numpy()\n",
        "        y_val.extend(true_labels)\n",
        "\n",
        "        data_cnt = data_cnt + true_labels.shape[0]\n",
        "        b_input_ids = b_input_ids.type(torch.IntTensor).to(device)\n",
        "        b_attn_mask = b_attn_mask.type(torch.IntTensor).to(device)\n",
        "        b_segment_ids = b_segment_ids.type(torch.IntTensor).to(device)\n",
        "        b_labels = b_labels.type(torch.LongTensor).to(device)\n",
        "        b_other_features = b_other_features.to(device).float()\n",
        "\n",
        "        # Compute logits\n",
        "        with torch.no_grad():\n",
        "            logits = model(b_input_ids, b_attn_mask, b_segment_ids, b_other_features)\n",
        "\n",
        "        # Compute loss\n",
        "        loss = loss_fn(logits, b_labels)\n",
        "        val_loss.append(loss.item())\n",
        "\n",
        "        # Get the predictions\n",
        "        preds = torch.argmax(logits, dim=1).flatten().cpu().numpy()\n",
        "        all_preds.extend(predict(preds, b_other_features.cpu().numpy()))\n",
        "        # Calculate the accuracy rate\n",
        "    \n",
        "        true_cnt = true_cnt + np.sum((preds == true_labels))\n",
        "        #print(preds)\n",
        "        #print(true_labels)\n",
        "        \n",
        "    # Compute the average accuracy and loss over the validation set.\n",
        "    val_loss = np.mean(val_loss)\n",
        "    val_accuracy = true_cnt / data_cnt\n",
        "\n",
        "    f1_s = f1_score(y_val, all_preds, average='macro')\n",
        "    f1_each = f1_score(y_val, all_preds, average=None)\n",
        "    c_mat = confusion_matrix(y_val, all_preds)\n",
        "\n",
        "    return val_loss, val_accuracy, f1_s, f1_each, c_mat"
      ],
      "execution_count": null,
      "outputs": []
    },
    {
      "cell_type": "code",
      "metadata": {
        "id": "SqfW1xa2EBs4"
      },
      "source": [
        "inputs, masks, segments, features = preprocessing_for_bert(X)\n",
        "labels = torch.tensor(y)"
      ],
      "execution_count": null,
      "outputs": []
    },
    {
      "cell_type": "code",
      "metadata": {
        "colab": {
          "base_uri": "https://localhost:8080/"
        },
        "id": "eynGgyO6Rmnv",
        "outputId": "d7952933-87c1-4461-fbd9-8fb97100f16b"
      },
      "source": [
        "X[1, :]"
      ],
      "execution_count": null,
      "outputs": [
        {
          "output_type": "execute_result",
          "data": {
            "text/plain": [
              "array(['Are you involved with charities?', 'Yes!',\n",
              "       array([0, 0, 0, 0, 0, 0, 0, 0, 0, 0, 0, 0, 0, 0, 0, 0, 0, 0, 0, 0, 0, 0,\n",
              "       0, 0, 1, 0, 0]),\n",
              "       list([0.4574, 0.0, 0.0, 1.0])], dtype=object)"
            ]
          },
          "metadata": {
            "tags": []
          },
          "execution_count": 18
        }
      ]
    },
    {
      "cell_type": "code",
      "metadata": {
        "id": "G1SC4ruVXMl-"
      },
      "source": [
        "def plot_confusion_matrix(cm,\n",
        "                          target_names,\n",
        "                          title='Confusion matrix',\n",
        "                          cmap=None,\n",
        "                          normalize=True):\n",
        "\n",
        "    \n",
        "    import matplotlib.pyplot as plt\n",
        "    import numpy as np\n",
        "    import itertools\n",
        "\n",
        "    accuracy = np.trace(cm) / float(np.sum(cm))\n",
        "    misclass = 1 - accuracy\n",
        "\n",
        "    if cmap is None:\n",
        "        cmap = plt.get_cmap('Blues')\n",
        "\n",
        "    plt.figure(figsize=(14, 14))\n",
        "    plt.imshow(cm, interpolation='nearest', cmap=cmap)\n",
        "    plt.title(title)\n",
        "    plt.colorbar()\n",
        "\n",
        "    if target_names is not None:\n",
        "        tick_marks = np.arange(len(target_names))\n",
        "        plt.xticks(tick_marks, target_names, rotation=45)\n",
        "        plt.yticks(tick_marks, target_names)\n",
        "\n",
        "    if normalize:\n",
        "        cm = cm.astype('float') / cm.sum(axis=1)[:, np.newaxis]\n",
        "\n",
        "\n",
        "    thresh = cm.max() / 1.5 if normalize else cm.max() / 2\n",
        "    for i, j in itertools.product(range(cm.shape[0]), range(cm.shape[1])):\n",
        "        if normalize:\n",
        "            plt.text(j, i, \"{:0.4f}\".format(cm[i, j]),\n",
        "                     horizontalalignment=\"center\",\n",
        "                     color=\"white\" if cm[i, j] > thresh else \"black\")\n",
        "        else:\n",
        "            plt.text(j, i, \"{:,}\".format(cm[i, j]),\n",
        "                     horizontalalignment=\"center\",\n",
        "                     color=\"white\" if cm[i, j] > thresh else \"black\")\n",
        "\n",
        "\n",
        "    plt.tight_layout()\n",
        "    plt.ylabel('True label')\n",
        "    plt.xlabel('Predicted label\\naccuracy={:0.4f}; misclass={:0.4f}'.format(accuracy, misclass))\n",
        "    plt.show()"
      ],
      "execution_count": null,
      "outputs": []
    },
    {
      "cell_type": "code",
      "metadata": {
        "id": "ukxg_momIIqS"
      },
      "source": [
        "set_seed(12)\n",
        "\n",
        "# Cross-validation\n",
        "\n",
        "dataset = TensorDataset(inputs, masks, segments, features, labels)\n",
        "\n",
        "batch_size = 32"
      ],
      "execution_count": null,
      "outputs": []
    },
    {
      "cell_type": "code",
      "metadata": {
        "id": "_aeqtpWIc3A7",
        "colab": {
          "base_uri": "https://localhost:8080/"
        },
        "outputId": "4ccc560a-f2c6-4577-cce1-df3435052fab"
      },
      "source": [
        "from sklearn.model_selection import KFold\n",
        "\n",
        "num_folds = 5\n",
        "num_epochs = 4\n",
        "kfold = KFold(n_splits=num_folds, shuffle=True)\n",
        "\n",
        "f1_per_class = np.zeros(N_CLASSES)\n",
        "f1_avg = 0\n",
        "C_mat = np.zeros((N_CLASSES, N_CLASSES))\n",
        "\n",
        "for fold, (train_ids, test_ids) in enumerate(kfold.split(dataset)):\n",
        "  print(f'FOLD {fold}')\n",
        "  print('--------------------------------')\n",
        "  train_subsampler = torch.utils.data.SubsetRandomSampler(train_ids)\n",
        "  test_subsampler = torch.utils.data.SubsetRandomSampler(test_ids)\n",
        "  \n",
        "  # Define data loaders for training and testing data in this fold\n",
        "  trainloader = torch.utils.data.DataLoader(\n",
        "                    dataset, batch_size=batch_size, sampler=train_subsampler)\n",
        "  testloader = torch.utils.data.DataLoader(\n",
        "                    dataset, batch_size=batch_size, sampler=test_subsampler)\n",
        "\n",
        "  bert_classifier, optimizer, scheduler = initialize_model(trainloader, epochs=num_epochs, freeze_bert=False)\n",
        "  f1_s, f1_each, c_mat = train(bert_classifier, trainloader, testloader, epochs=num_epochs, evaluation=True)  \n",
        "  f1_avg = f1_avg + f1_s\n",
        "  f1_per_class = f1_per_class + f1_each\n",
        "  C_mat = C_mat + c_mat\n",
        "  if fold == 0:\n",
        "    break\n",
        "\n",
        "f1_per_class = f1_per_class / num_folds\n",
        "f1_avg = f1_avg / num_folds\n",
        "C_mat = C_mat / num_folds"
      ],
      "execution_count": null,
      "outputs": [
        {
          "output_type": "stream",
          "text": [
            "FOLD 0\n",
            "--------------------------------\n",
            "Start training...\n",
            "\n",
            " Epoch  |  Batch  |  Train Loss  |  Val Loss  |  Val Acc  |  F1  |  Elapsed \n",
            "---------------------------------------------------------------------------\n",
            "   1    |   20    |   2.305933   |     -      |     -     |  -   |  8.41   \n",
            "   1    |   40    |   1.735314   |     -      |     -     |  -   |  8.16   \n",
            "   1    |   60    |   1.508942   |     -      |     -     |  -   |  8.08   \n",
            "   1    |   80    |   1.377777   |     -      |     -     |  -   |  7.87   \n",
            "   1    |   100   |   1.322214   |     -      |     -     |  -   |  7.71   \n",
            "   1    |   120   |   1.222749   |     -      |     -     |  -   |  7.54   \n",
            "---------------------------------------------------------------------------\n",
            "   1    |    -    |   1.584831   |  1.193403  |   0.60    | 0.52 |   51.94  \n",
            "---------------------------------------------------------------------------\n",
            "\n",
            "\n",
            " Epoch  |  Batch  |  Train Loss  |  Val Loss  |  Val Acc  |  F1  |  Elapsed \n",
            "---------------------------------------------------------------------------\n",
            "   2    |   20    |   1.090020   |     -      |     -     |  -   |  7.91   \n",
            "   2    |   40    |   0.982428   |     -      |     -     |  -   |  7.51   \n",
            "   2    |   60    |   1.046921   |     -      |     -     |  -   |  7.53   \n",
            "   2    |   80    |   0.963303   |     -      |     -     |  -   |  7.56   \n",
            "   2    |   100   |   0.990044   |     -      |     -     |  -   |  7.61   \n",
            "   2    |   120   |   0.964247   |     -      |     -     |  -   |  7.60   \n",
            "---------------------------------------------------------------------------\n",
            "   2    |    -    |   1.006853   |  1.167737  |   0.60    | 0.56 |   50.06  \n",
            "---------------------------------------------------------------------------\n",
            "\n",
            "\n",
            " Epoch  |  Batch  |  Train Loss  |  Val Loss  |  Val Acc  |  F1  |  Elapsed \n",
            "---------------------------------------------------------------------------\n",
            "   3    |   20    |   0.710071   |     -      |     -     |  -   |  8.09   \n",
            "   3    |   40    |   0.713222   |     -      |     -     |  -   |  7.72   \n",
            "   3    |   60    |   0.727968   |     -      |     -     |  -   |  7.71   \n",
            "   3    |   80    |   0.572969   |     -      |     -     |  -   |  7.68   \n",
            "   3    |   100   |   0.682701   |     -      |     -     |  -   |  7.67   \n",
            "   3    |   120   |   0.808544   |     -      |     -     |  -   |  7.56   \n",
            "---------------------------------------------------------------------------\n",
            "   3    |    -    |   0.702641   |  1.175748  |   0.63    | 0.59 |   50.69  \n",
            "---------------------------------------------------------------------------\n",
            "\n",
            "\n",
            " Epoch  |  Batch  |  Train Loss  |  Val Loss  |  Val Acc  |  F1  |  Elapsed \n",
            "---------------------------------------------------------------------------\n",
            "   4    |   20    |   0.489369   |     -      |     -     |  -   |  7.97   \n",
            "   4    |   40    |   0.492134   |     -      |     -     |  -   |  7.61   \n",
            "   4    |   60    |   0.491905   |     -      |     -     |  -   |  7.61   \n",
            "   4    |   80    |   0.576571   |     -      |     -     |  -   |  7.63   \n",
            "   4    |   100   |   0.463900   |     -      |     -     |  -   |  7.65   \n",
            "   4    |   120   |   0.494985   |     -      |     -     |  -   |  7.60   \n",
            "---------------------------------------------------------------------------\n",
            "   4    |    -    |   0.501377   |  1.220094  |   0.61    | 0.59 |   50.37  \n",
            "---------------------------------------------------------------------------\n",
            "\n",
            "\n"
          ],
          "name": "stdout"
        }
      ]
    },
    {
      "cell_type": "code",
      "metadata": {
        "id": "NUBoHVBrkn0u"
      },
      "source": [
        "C_mat = C_mat * num_folds"
      ],
      "execution_count": null,
      "outputs": []
    },
    {
      "cell_type": "code",
      "metadata": {
        "colab": {
          "base_uri": "https://localhost:8080/",
          "height": 1000
        },
        "id": "O4u3Div03l_G",
        "outputId": "0916633b-125c-47fe-e182-51b581967c13"
      },
      "source": [
        "plot_confusion_matrix(C_mat, range(0, N_CLASSES), normalize=True)"
      ],
      "execution_count": null,
      "outputs": [
        {
          "output_type": "display_data",
          "data": {
            "image/png": "[encoded data removed]",
            "text/plain": [
              "<Figure size 1008x1008 with 2 Axes>"
            ]
          },
          "metadata": {
            "tags": [],
            "needs_background": "light"
          }
        }
      ]
    },
    {
      "cell_type": "code",
      "metadata": {
        "colab": {
          "base_uri": "https://localhost:8080/"
        },
        "id": "MNd9uLHtk76r",
        "outputId": "48f1d5ed-8d94-4a11-b1a4-a88bf8512d2e"
      },
      "source": [
        "np.sum(C_mat)"
      ],
      "execution_count": null,
      "outputs": [
        {
          "output_type": "execute_result",
          "data": {
            "text/plain": [
              "967.0"
            ]
          },
          "metadata": {
            "tags": []
          },
          "execution_count": 84
        }
      ]
    },
    {
      "cell_type": "code",
      "metadata": {
        "colab": {
          "base_uri": "https://localhost:8080/"
        },
        "id": "NVhoOQuw5O6E",
        "outputId": "de90f404-13b5-4bc6-b0f2-d52ecec0a306"
      },
      "source": [
        "ee_intent_dict"
      ],
      "execution_count": null,
      "outputs": [
        {
          "output_type": "execute_result",
          "data": {
            "text/plain": [
              "{'acknowledgement': 0,\n",
              " 'agree-donation': 1,\n",
              " 'ask-donation-procedure': 2,\n",
              " 'ask-org-info': 3,\n",
              " 'ask-persuader-donation-intention': 4,\n",
              " 'closing': 5,\n",
              " 'confirm-donation': 1,\n",
              " 'disagree-donation': 6,\n",
              " 'greeting': 7,\n",
              " 'negative-reaction-to-donation': 8,\n",
              " 'negative-to-inquiry': 9,\n",
              " 'neutral-reaction-to-donation': 10,\n",
              " 'neutral-to-inquiry': 10,\n",
              " 'off-task': 10,\n",
              " 'other': 10,\n",
              " 'personal-related-inquiry': 11,\n",
              " 'positive-reaction-to-donation': 0,\n",
              " 'positive-to-inquiry': 12,\n",
              " 'provide-donation-amount': 13,\n",
              " 'task-related-inquiry': 14,\n",
              " 'thank': 5,\n",
              " 'you-are-welcome': 5}"
            ]
          },
          "metadata": {
            "tags": []
          },
          "execution_count": 31
        }
      ]
    },
    {
      "cell_type": "code",
      "metadata": {
        "colab": {
          "base_uri": "https://localhost:8080/"
        },
        "id": "S9IcWBTO6BIE",
        "outputId": "57ce776a-1659-4cbb-e8eb-0c06c0e23290"
      },
      "source": [
        "ee_intent_dict"
      ],
      "execution_count": null,
      "outputs": [
        {
          "output_type": "execute_result",
          "data": {
            "text/plain": [
              "{'acknowledgement': 0,\n",
              " 'agree-donation': 1,\n",
              " 'ask-donation-procedure': 2,\n",
              " 'ask-org-info': 3,\n",
              " 'ask-persuader-donation-intention': 4,\n",
              " 'closing': 5,\n",
              " 'confirm-donation': 1,\n",
              " 'disagree-donation': 6,\n",
              " 'greeting': 7,\n",
              " 'negative-reaction-to-donation': 8,\n",
              " 'negative-to-inquiry': 9,\n",
              " 'neutral-reaction-to-donation': 10,\n",
              " 'neutral-to-inquiry': 10,\n",
              " 'off-task': 10,\n",
              " 'other': 10,\n",
              " 'personal-related-inquiry': 11,\n",
              " 'positive-reaction-to-donation': 12,\n",
              " 'positive-to-inquiry': 13,\n",
              " 'provide-donation-amount': 14,\n",
              " 'task-related-inquiry': 15,\n",
              " 'thank': 5,\n",
              " 'you-are-welcome': 5}"
            ]
          },
          "metadata": {
            "tags": []
          },
          "execution_count": 113
        }
      ]
    },
    {
      "cell_type": "code",
      "metadata": {
        "id": "Ph0y6w5Lzh-4",
        "colab": {
          "base_uri": "https://localhost:8080/"
        },
        "outputId": "4edc116f-b236-4e96-a9f9-5ce7384a44ed"
      },
      "source": [
        "# Train with all data\n",
        "all_loader = torch.utils.data.DataLoader(\n",
        "                    dataset, batch_size=batch_size)\n",
        "bert_classifier, optimizer, scheduler = initialize_model(all_loader, epochs=num_epochs, freeze_bert=False)\n",
        "f1_s, f1_per_class, C_mat = train(bert_classifier, all_loader, all_loader, epochs=num_epochs, evaluation=True)"
      ],
      "execution_count": null,
      "outputs": [
        {
          "output_type": "stream",
          "text": [
            "Start training...\n",
            "\n",
            " Epoch  |  Batch  |  Train Loss  |  Val Loss  |  Val Acc  |  F1  |  Elapsed \n",
            "---------------------------------------------------------------------------\n",
            "   1    |   20    |   2.295219   |     -      |     -     |  -   |  8.06   \n",
            "   1    |   40    |   1.796667   |     -      |     -     |  -   |  7.86   \n",
            "   1    |   60    |   1.548014   |     -      |     -     |  -   |  7.94   \n",
            "   1    |   80    |   1.356977   |     -      |     -     |  -   |  7.82   \n",
            "   1    |   100   |   1.344097   |     -      |     -     |  -   |  7.72   \n",
            "   1    |   120   |   1.263111   |     -      |     -     |  -   |  7.66   \n",
            "   1    |   140   |   1.264358   |     -      |     -     |  -   |  7.59   \n",
            "   1    |   150   |   1.354470   |     -      |     -     |  -   |  3.78   \n",
            "---------------------------------------------------------------------------\n",
            "   1    |    -    |   1.544429   |  0.978963  |   0.68    | 0.60 |   78.88  \n",
            "---------------------------------------------------------------------------\n",
            "\n",
            "\n",
            " Epoch  |  Batch  |  Train Loss  |  Val Loss  |  Val Acc  |  F1  |  Elapsed \n",
            "---------------------------------------------------------------------------\n",
            "   2    |   20    |   1.104102   |     -      |     -     |  -   |  7.98   \n",
            "   2    |   40    |   1.157868   |     -      |     -     |  -   |  7.63   \n",
            "   2    |   60    |   1.046683   |     -      |     -     |  -   |  7.67   \n",
            "   2    |   80    |   0.946846   |     -      |     -     |  -   |  7.70   \n",
            "   2    |   100   |   0.993535   |     -      |     -     |  -   |  7.69   \n",
            "   2    |   120   |   0.919296   |     -      |     -     |  -   |  7.68   \n",
            "   2    |   140   |   0.945244   |     -      |     -     |  -   |  7.67   \n",
            "   2    |   150   |   0.917723   |     -      |     -     |  -   |  3.83   \n",
            "---------------------------------------------------------------------------\n",
            "   2    |    -    |   1.010284   |  0.712001  |   0.77    | 0.71 |   78.66  \n",
            "---------------------------------------------------------------------------\n",
            "\n",
            "\n",
            " Epoch  |  Batch  |  Train Loss  |  Val Loss  |  Val Acc  |  F1  |  Elapsed \n",
            "---------------------------------------------------------------------------\n",
            "   3    |   20    |   0.834197   |     -      |     -     |  -   |  8.03   \n",
            "   3    |   40    |   0.872995   |     -      |     -     |  -   |  7.63   \n",
            "   3    |   60    |   0.760589   |     -      |     -     |  -   |  7.64   \n",
            "   3    |   80    |   0.723446   |     -      |     -     |  -   |  7.64   \n",
            "   3    |   100   |   0.733004   |     -      |     -     |  -   |  7.63   \n",
            "   3    |   120   |   0.686662   |     -      |     -     |  -   |  7.63   \n",
            "   3    |   140   |   0.714785   |     -      |     -     |  -   |  7.65   \n",
            "   3    |   150   |   0.693520   |     -      |     -     |  -   |  3.81   \n",
            "---------------------------------------------------------------------------\n",
            "   3    |    -    |   0.756841   |  0.495928  |   0.85    | 0.79 |   78.44  \n",
            "---------------------------------------------------------------------------\n",
            "\n",
            "\n",
            " Epoch  |  Batch  |  Train Loss  |  Val Loss  |  Val Acc  |  F1  |  Elapsed \n",
            "---------------------------------------------------------------------------\n",
            "   4    |   20    |   0.617174   |     -      |     -     |  -   |  8.01   \n",
            "   4    |   40    |   0.653987   |     -      |     -     |  -   |  7.64   \n",
            "   4    |   60    |   0.534647   |     -      |     -     |  -   |  7.65   \n",
            "   4    |   80    |   0.536636   |     -      |     -     |  -   |  7.63   \n",
            "   4    |   100   |   0.538934   |     -      |     -     |  -   |  7.64   \n",
            "   4    |   120   |   0.505933   |     -      |     -     |  -   |  7.65   \n",
            "   4    |   140   |   0.560837   |     -      |     -     |  -   |  7.63   \n",
            "   4    |   150   |   0.530212   |     -      |     -     |  -   |  3.81   \n",
            "---------------------------------------------------------------------------\n",
            "   4    |    -    |   0.562134   |  0.397828  |   0.88    | 0.82 |   78.44  \n",
            "---------------------------------------------------------------------------\n",
            "\n",
            "\n"
          ],
          "name": "stdout"
        }
      ]
    },
    {
      "cell_type": "code",
      "metadata": {
        "id": "0T4LnI4V0rbT"
      },
      "source": [
        "torch.save(bert_classifier, '/content/drive/My Drive/PersuasionForGood_Data/Models/ee_only.pt')"
      ],
      "execution_count": null,
      "outputs": []
    },
    {
      "cell_type": "code",
      "metadata": {
        "id": "vfh009fP-IWA"
      },
      "source": [
        "torch.save(bert_classifier, '/content/drive/My Drive/PersuasionForGood_Data/Models/last_ee_sent2.pt')"
      ],
      "execution_count": null,
      "outputs": []
    },
    {
      "cell_type": "code",
      "metadata": {
        "id": "DgS17bExKSAJ"
      },
      "source": [
        "my_model = torch.load('/content/drive/My Drive/PersuasionForGood_Data/Models/ee_only.pt')\n",
        "my_model.eval()"
      ],
      "execution_count": null,
      "outputs": []
    },
    {
      "cell_type": "code",
      "metadata": {
        "id": "6L-tK-C06l5R"
      },
      "source": [
        "my_model = bert_classifier\n",
        "my_model.eval()"
      ],
      "execution_count": null,
      "outputs": []
    },
    {
      "cell_type": "code",
      "metadata": {
        "id": "0iZP50-oYEmc"
      },
      "source": [
        "all_loader = torch.utils.data.DataLoader(dataset, shuffle=True, batch_size=batch_size)\n",
        "all_preds = []\n",
        "cnt = 0\n",
        "y_true = []\n",
        "for batch in all_loader:\n",
        "  # Load batch to GPU\n",
        "  b_input_ids, b_attn_mask, b_segment_ids, b_other_features, b_labels = batch\n",
        "\n",
        "  true_labels = b_labels.cpu().numpy()\n",
        "  y_true.extend(true_labels)\n",
        "                \n",
        "  b_input_ids = b_input_ids.type(torch.IntTensor).to(device)\n",
        "  b_attn_mask = b_attn_mask.type(torch.IntTensor).to(device)\n",
        "  b_segment_ids = b_segment_ids.type(torch.IntTensor).to(device)\n",
        "  b_labels = b_labels.type(torch.LongTensor).to(device)\n",
        "  b_other_features = b_other_features.to(device).float()\n",
        "\n",
        "  # Compute logits\n",
        "  with torch.no_grad():\n",
        "      logits = my_model(b_input_ids, b_attn_mask, b_segment_ids, b_other_features)\n",
        "\n",
        "\n",
        "  # Get the predictions\n",
        "  preds = torch.argmax(logits, dim=1).flatten().cpu().numpy()\n",
        "  all_preds.extend(preds)\n",
        "  cnt = cnt + np.sum((preds == true_labels))\n",
        "acc = np.sum(np.asarray(all_preds) == np.asarray(y_true))/len(y_true)\n",
        "f1_s = f1_score(y_true, all_preds, average='macro')\n",
        "f1_per_class = f1_score(y_true, all_preds, average=None)\n",
        "C_mat = confusion_matrix(y_true, all_preds)"
      ],
      "execution_count": null,
      "outputs": []
    },
    {
      "cell_type": "code",
      "metadata": {
        "colab": {
          "base_uri": "https://localhost:8080/"
        },
        "id": "wkIC4zES9Gk9",
        "outputId": "950040bd-3e9a-4c65-bf9a-edf43da9f83c"
      },
      "source": [
        "acc"
      ],
      "execution_count": null,
      "outputs": [
        {
          "output_type": "execute_result",
          "data": {
            "text/plain": [
              "0.8770695364238411"
            ]
          },
          "metadata": {
            "tags": []
          },
          "execution_count": 24
        }
      ]
    },
    {
      "cell_type": "code",
      "metadata": {
        "colab": {
          "base_uri": "https://localhost:8080/"
        },
        "id": "a_9hpAa49HDJ",
        "outputId": "52a815cf-9c8a-40be-a557-a4b35d4f98f4"
      },
      "source": [
        "f1_s"
      ],
      "execution_count": null,
      "outputs": [
        {
          "output_type": "execute_result",
          "data": {
            "text/plain": [
              "0.8567321390258698"
            ]
          },
          "metadata": {
            "tags": []
          },
          "execution_count": 25
        }
      ]
    },
    {
      "cell_type": "code",
      "metadata": {
        "colab": {
          "base_uri": "https://localhost:8080/"
        },
        "id": "Dm5csDab9I9m",
        "outputId": "9f33a9d2-4cf5-4cb5-a13b-f0f5cf1f89a8"
      },
      "source": [
        "f1_per_class"
      ],
      "execution_count": null,
      "outputs": [
        {
          "output_type": "execute_result",
          "data": {
            "text/plain": [
              "array([0.91888011, 0.81702128, 0.83783784, 0.91658489, 0.83243243,\n",
              "       0.9435337 , 0.89932886, 0.96688742, 0.84415584, 0.89726027,\n",
              "       0.82021661, 0.7804878 , 0.82899628, 0.94285714, 0.60450161])"
            ]
          },
          "metadata": {
            "tags": []
          },
          "execution_count": 26
        }
      ]
    },
    {
      "cell_type": "code",
      "metadata": {
        "colab": {
          "base_uri": "https://localhost:8080/",
          "height": 1000
        },
        "id": "LFMjruiK9uSq",
        "outputId": "2f25f831-9b64-422c-8985-0ad813dd3067"
      },
      "source": [
        "plot_confusion_matrix(C_mat, range(0, N_CLASSES), normalize=True)"
      ],
      "execution_count": null,
      "outputs": [
        {
          "output_type": "display_data",
          "data": {
            "image/png": "[encoded data removed]",
            "text/plain": [
              "<Figure size 1008x1008 with 2 Axes>"
            ]
          },
          "metadata": {
            "tags": [],
            "needs_background": "light"
          }
        }
      ]
    },
    {
      "cell_type": "code",
      "metadata": {
        "id": "zTWfPy8v9-8A",
        "colab": {
          "base_uri": "https://localhost:8080/"
        },
        "outputId": "b59a215e-5a51-4836-d472-3ccaf5d9ee1d"
      },
      "source": [
        "ee_intent_dict"
      ],
      "execution_count": null,
      "outputs": [
        {
          "output_type": "execute_result",
          "data": {
            "text/plain": [
              "{'acknowledgement': 0,\n",
              " 'agree-donation': 1,\n",
              " 'ask-donation-procedure': 2,\n",
              " 'ask-org-info': 3,\n",
              " 'ask-persuader-donation-intention': 4,\n",
              " 'closing': 5,\n",
              " 'confirm-donation': 1,\n",
              " 'disagree-donation': 6,\n",
              " 'greeting': 7,\n",
              " 'negative-reaction-to-donation': 8,\n",
              " 'negative-to-inquiry': 9,\n",
              " 'neutral-reaction-to-donation': 10,\n",
              " 'neutral-to-inquiry': 10,\n",
              " 'off-task': 10,\n",
              " 'other': 10,\n",
              " 'personal-related-inquiry': 11,\n",
              " 'positive-reaction-to-donation': 0,\n",
              " 'positive-to-inquiry': 12,\n",
              " 'provide-donation-amount': 13,\n",
              " 'task-related-inquiry': 14,\n",
              " 'thank': 5,\n",
              " 'you-are-welcome': 5}"
            ]
          },
          "metadata": {
            "tags": []
          },
          "execution_count": 64
        }
      ]
    },
    {
      "cell_type": "code",
      "metadata": {
        "id": "X0nxTt_vHdyz"
      },
      "source": [
        ""
      ],
      "execution_count": null,
      "outputs": []
    }
  ]
}